{
 "cells": [
  {
   "cell_type": "markdown",
   "metadata": {},
   "source": [
    "# Relatório de Python Aplicado à Geoestatística"
   ]
  },
  {
   "cell_type": "markdown",
   "metadata": {},
   "source": [
    "O presente _Jupyter Notebook_ contém uma rotina utilizando módulos na linguagem de programação _Python_, onde um banco de dados do Walker Lake será carregado e sua variável estimada através do estimador linear desenvolvido. Posteriormente, o resultado será plotado."
   ]
  },
  {
   "cell_type": "markdown",
   "metadata": {},
   "source": [
    "## Exercício de Desenvolvimento de um algoritmo de Krigagem"
   ]
  },
  {
   "cell_type": "markdown",
   "metadata": {},
   "source": [
    "## Importação dos módulos"
   ]
  },
  {
   "cell_type": "markdown",
   "metadata": {},
   "source": [
    "Na seguinte célula, são importados os módulos em _Python_ desenvolvidos para o trabalho. \n",
    "\n",
    "No _module_grid_ têm-se os códigos para a criação de um grid bidimensional de acordo com o banco de dados fornecido, sendo escolhido pelo usuário o tamanho de célula desejado para a construção do grid, e a criação de um _array_ contendo as coordenadas das células do grid criado.\n",
    "\n",
    "No _module_kriging_ têm-se os códigos para a realização da estimativa. O modelo de continuidade utilizado é um modelo exponencial.\n",
    "\n",
    "No _module_visual_ têm-se o código para visualização das estimativas."
   ]
  },
  {
   "cell_type": "code",
   "execution_count": 1,
   "metadata": {},
   "outputs": [],
   "source": [
    "from module_grid import auto_grid, add_coords # Importando o construtor de grids automático\n",
    "from  module_kriging import df_from_gslib, all_kriging # Importando o código de conversão de arquivos GEO-AS GSLib para Pandas DataFrame e a Krigagem de todos os pontos\n",
    "from module_visual import pixelplot # Importanto o pixelplot para visualização das estimativas\n"
   ]
  },
  {
   "cell_type": "code",
   "execution_count": 2,
   "metadata": {},
   "outputs": [],
   "source": [
    "data = 'Int_Geostats_dataset.dat' # Carregando o arquivo GSLib do Walker Lake"
   ]
  },
  {
   "cell_type": "code",
   "execution_count": 3,
   "metadata": {},
   "outputs": [],
   "source": [
    "df = df_from_gslib(data) # Lendo e Convertendo o arquivo GSLib em um Pandas DataFrame"
   ]
  },
  {
   "cell_type": "code",
   "execution_count": 4,
   "metadata": {},
   "outputs": [
    {
     "data": {
      "text/html": [
       "<div>\n",
       "<style scoped>\n",
       "    .dataframe tbody tr th:only-of-type {\n",
       "        vertical-align: middle;\n",
       "    }\n",
       "\n",
       "    .dataframe tbody tr th {\n",
       "        vertical-align: top;\n",
       "    }\n",
       "\n",
       "    .dataframe thead th {\n",
       "        text-align: right;\n",
       "    }\n",
       "</style>\n",
       "<table border=\"1\" class=\"dataframe\">\n",
       "  <thead>\n",
       "    <tr style=\"text-align: right;\">\n",
       "      <th></th>\n",
       "      <th>X</th>\n",
       "      <th>Y</th>\n",
       "      <th>Cu(%)</th>\n",
       "      <th>Au(PPM)</th>\n",
       "    </tr>\n",
       "  </thead>\n",
       "  <tbody>\n",
       "    <tr>\n",
       "      <th>0</th>\n",
       "      <td>11</td>\n",
       "      <td>8</td>\n",
       "      <td>0.000</td>\n",
       "      <td>-999.0000</td>\n",
       "    </tr>\n",
       "    <tr>\n",
       "      <th>1</th>\n",
       "      <td>8</td>\n",
       "      <td>30</td>\n",
       "      <td>0.000</td>\n",
       "      <td>-999.0000</td>\n",
       "    </tr>\n",
       "    <tr>\n",
       "      <th>2</th>\n",
       "      <td>9</td>\n",
       "      <td>48</td>\n",
       "      <td>2.244</td>\n",
       "      <td>-999.0000</td>\n",
       "    </tr>\n",
       "    <tr>\n",
       "      <th>3</th>\n",
       "      <td>8</td>\n",
       "      <td>69</td>\n",
       "      <td>4.344</td>\n",
       "      <td>-999.0000</td>\n",
       "    </tr>\n",
       "    <tr>\n",
       "      <th>4</th>\n",
       "      <td>9</td>\n",
       "      <td>90</td>\n",
       "      <td>4.121</td>\n",
       "      <td>-999.0000</td>\n",
       "    </tr>\n",
       "    <tr>\n",
       "      <th>...</th>\n",
       "      <td>...</td>\n",
       "      <td>...</td>\n",
       "      <td>...</td>\n",
       "      <td>...</td>\n",
       "    </tr>\n",
       "    <tr>\n",
       "      <th>465</th>\n",
       "      <td>214</td>\n",
       "      <td>19</td>\n",
       "      <td>2.425</td>\n",
       "      <td>0.0156</td>\n",
       "    </tr>\n",
       "    <tr>\n",
       "      <th>466</th>\n",
       "      <td>245</td>\n",
       "      <td>231</td>\n",
       "      <td>1.612</td>\n",
       "      <td>0.0261</td>\n",
       "    </tr>\n",
       "    <tr>\n",
       "      <th>467</th>\n",
       "      <td>233</td>\n",
       "      <td>220</td>\n",
       "      <td>6.260</td>\n",
       "      <td>0.9597</td>\n",
       "    </tr>\n",
       "    <tr>\n",
       "      <th>468</th>\n",
       "      <td>226</td>\n",
       "      <td>221</td>\n",
       "      <td>8.001</td>\n",
       "      <td>1.6815</td>\n",
       "    </tr>\n",
       "    <tr>\n",
       "      <th>469</th>\n",
       "      <td>213</td>\n",
       "      <td>218</td>\n",
       "      <td>4.826</td>\n",
       "      <td>0.4762</td>\n",
       "    </tr>\n",
       "  </tbody>\n",
       "</table>\n",
       "<p>470 rows × 4 columns</p>\n",
       "</div>"
      ],
      "text/plain": [
       "       X    Y  Cu(%)   Au(PPM)\n",
       "0     11    8  0.000 -999.0000\n",
       "1      8   30  0.000 -999.0000\n",
       "2      9   48  2.244 -999.0000\n",
       "3      8   69  4.344 -999.0000\n",
       "4      9   90  4.121 -999.0000\n",
       "..   ...  ...    ...       ...\n",
       "465  214   19  2.425    0.0156\n",
       "466  245  231  1.612    0.0261\n",
       "467  233  220  6.260    0.9597\n",
       "468  226  221  8.001    1.6815\n",
       "469  213  218  4.826    0.4762\n",
       "\n",
       "[470 rows x 4 columns]"
      ]
     },
     "execution_count": 4,
     "metadata": {},
     "output_type": "execute_result"
    }
   ],
   "source": [
    "df"
   ]
  },
  {
   "cell_type": "code",
   "execution_count": 5,
   "metadata": {},
   "outputs": [],
   "source": [
    "grid = auto_grid(df.X, df.Y, 5, 5) #Criando um Grid de acordo com o banco de dados"
   ]
  },
  {
   "cell_type": "code",
   "execution_count": 6,
   "metadata": {},
   "outputs": [
    {
     "data": {
      "text/plain": [
       "{'xo': 8, 'yo': 8, 'nx': 48, 'ny': 56, 'sx': 5, 'sy': 5}"
      ]
     },
     "execution_count": 6,
     "metadata": {},
     "output_type": "execute_result"
    }
   ],
   "source": [
    "grid"
   ]
  },
  {
   "cell_type": "code",
   "execution_count": 7,
   "metadata": {},
   "outputs": [],
   "source": [
    "coords_grid = add_coords(grid) #Criando um array de coordenadas de acordo com o grid criado pelo banco de dados"
   ]
  },
  {
   "cell_type": "code",
   "execution_count": 8,
   "metadata": {},
   "outputs": [
    {
     "data": {
      "text/plain": [
       "array([[  8,   8],\n",
       "       [  8,  13],\n",
       "       [  8,  18],\n",
       "       ...,\n",
       "       [243, 273],\n",
       "       [243, 278],\n",
       "       [243, 283]])"
      ]
     },
     "execution_count": 8,
     "metadata": {},
     "output_type": "execute_result"
    }
   ],
   "source": [
    "coords_grid"
   ]
  },
  {
   "cell_type": "code",
   "execution_count": 9,
   "metadata": {},
   "outputs": [],
   "source": [
    "block = all_kriging(df.X, df.Y, coords_grid, 15, 8) #Estimativa com 15 amostras e alcance de 8."
   ]
  },
  {
   "cell_type": "code",
   "execution_count": 10,
   "metadata": {},
   "outputs": [
    {
     "data": {
      "image/png": "[encoded data removed]",
      "text/plain": [
       "<Figure size 576x576 with 2 Axes>"
      ]
     },
     "metadata": {
      "needs_background": "light"
     },
     "output_type": "display_data"
    }
   ],
   "source": [
    "pixelplot(grid, block) #Visualização da estimativa"
   ]
  },
  {
   "cell_type": "code",
   "execution_count": null,
   "metadata": {},
   "outputs": [],
   "source": []
  }
 ],
 "metadata": {
  "kernelspec": {
   "display_name": "Python 3",
   "language": "python",
   "name": "python3"
  },
  "language_info": {
   "codemirror_mode": {
    "name": "ipython",
    "version": 3
   },
   "file_extension": ".py",
   "mimetype": "text/x-python",
   "name": "python",
   "nbconvert_exporter": "python",
   "pygments_lexer": "ipython3",
   "version": "3.8.5"
  }
 },
 "nbformat": 4,
 "nbformat_minor": 4
}
